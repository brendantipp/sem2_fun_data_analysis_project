{
 "cells": [
  {
   "cell_type": "markdown",
   "metadata": {},
   "source": [
    "### Simple Linear Regression on powerproduction dataset\n",
    "#### GMIT Fun Data Analysis Project - Brendan Ryan"
   ]
  },
  {
   "cell_type": "markdown",
   "metadata": {},
   "source": [
    "## Intro and Prioject aim\n",
    "The aim of this project is to explain linear regression using Python. In this project we are going to perform simple linera regression on a pre- produced powerproduction dataset. Our goal is to accurately predict wind turbine power output from wind speed. The power production dataset will be used as a basis of my investigation.\n",
    "\n",
    "The problem with electricity generation using wind turbines – companies generally need to sell electricity ahead of time - and generate exactly the amount required.  Wind speed is volatile so need to use predictions - the better the predictions we can make the better it is for the company generating the electricty. Lets see what we can do....\n",
    "\n",
    "From my findings I am also going to compare simple liner regresssion with other forms of regression. From these regression models we will see do our models score well and then we wil then start making predictions - maybe even some money mmmm\n",
    "_______________"
   ]
  },
  {
   "cell_type": "markdown",
   "metadata": {},
   "source": [
    "### Firstly what is meant by Regression\n",
    "The term regression is used when you try to find the relationship between variables.\n",
    "In Machine Learning, and in statistical modeling, that relationship is used to predict the outcome of future events.\n",
    "\n",
    "What is Linear Regression\n",
    "Linear regression uses the relationship between the data-points to draw a straight line through all them.\n",
    "This line can be used to predict future values.\n",
    "\n",
    "\n",
    "I also like the way https://www.w3schools.com/python/python_ml_linear_regression.asp simplifies things thank god\n",
    "\n",
    "____________\n",
    "\n",
    "###  What A Simple Linear Regression Model Is and How It Works:\n",
    "\n",
    "In statistics, simple linear regression is a linear regression model with a single explanatory variable.  - reference https://en.wikipedia.org/wiki/Simple_linear_regression\n",
    "\n",
    "\n",
    "####  Simple Linear Regression Model\n",
    "I found this very useful - https://www.thebalancesmb.com/what-is-simple-linear-regression-2296697\n",
    "Linear regression models are used to show or predict the relationship between two variables or factors. \n",
    "- The factor that is being predicted (the factor that the equation solves for) is called the dependent variable. \n",
    "- The factors that are used to predict the value of the dependent variable are called the independent variables.\n",
    "\n",
    "In linear regression, each observation consists of two values. One value is for the dependent variable and one value is for the independent variable. \n",
    "\n",
    "#### In this simple model, a straight line approximates the relationship between the dependent variable and the independent variable\n",
    "\n",
    "\n",
    "The two factors that are involved in simple linear regression analysis are designated x and y. The equation that describes how y is related to x is known as the regression model.\n",
    "\n",
    "So in Simple Linear Regression = we have the points we need to calculate the values for the equation \n",
    "\n",
    "#### Simple Linear Regression versus Multiple Regression\n",
    "\n",
    "When two or more independent variables are used in regression analysis, the model is no longer a simple linear one. This is known as multiple regression."
   ]
  },
  {
   "cell_type": "markdown",
   "metadata": {},
   "source": [
    "#### Importing our Modules "
   ]
  },
  {
   "cell_type": "code",
   "execution_count": 1,
   "metadata": {},
   "outputs": [],
   "source": [
    "#Imports\n",
    "import pandas as pd\n",
    "import numpy as np\n",
    "import matplotlib.pyplot as plt\n",
    "import seaborn as sns\n",
    "%matplotlib inline"
   ]
  },
  {
   "cell_type": "markdown",
   "metadata": {},
   "source": [
    "## Loading and Cleaning our Dataset"
   ]
  },
  {
   "cell_type": "code",
   "execution_count": 2,
   "metadata": {},
   "outputs": [],
   "source": [
    "#load in the dataset\n",
    "df = pd.read_csv(\"https://raw.githubusercontent.com/ianmcloughlin/2020A-machstat-project/master/dataset/powerproduction.csv\")"
   ]
  },
  {
   "cell_type": "code",
   "execution_count": 3,
   "metadata": {},
   "outputs": [
    {
     "data": {
      "text/html": [
       "<div>\n",
       "<style scoped>\n",
       "    .dataframe tbody tr th:only-of-type {\n",
       "        vertical-align: middle;\n",
       "    }\n",
       "\n",
       "    .dataframe tbody tr th {\n",
       "        vertical-align: top;\n",
       "    }\n",
       "\n",
       "    .dataframe thead th {\n",
       "        text-align: right;\n",
       "    }\n",
       "</style>\n",
       "<table border=\"1\" class=\"dataframe\">\n",
       "  <thead>\n",
       "    <tr style=\"text-align: right;\">\n",
       "      <th></th>\n",
       "      <th>speed</th>\n",
       "      <th>power</th>\n",
       "    </tr>\n",
       "  </thead>\n",
       "  <tbody>\n",
       "    <tr>\n",
       "      <th>0</th>\n",
       "      <td>0.000</td>\n",
       "      <td>0.0</td>\n",
       "    </tr>\n",
       "    <tr>\n",
       "      <th>1</th>\n",
       "      <td>0.125</td>\n",
       "      <td>0.0</td>\n",
       "    </tr>\n",
       "    <tr>\n",
       "      <th>2</th>\n",
       "      <td>0.150</td>\n",
       "      <td>0.0</td>\n",
       "    </tr>\n",
       "    <tr>\n",
       "      <th>3</th>\n",
       "      <td>0.225</td>\n",
       "      <td>0.0</td>\n",
       "    </tr>\n",
       "    <tr>\n",
       "      <th>4</th>\n",
       "      <td>0.275</td>\n",
       "      <td>0.0</td>\n",
       "    </tr>\n",
       "  </tbody>\n",
       "</table>\n",
       "</div>"
      ],
      "text/plain": [
       "   speed  power\n",
       "0  0.000    0.0\n",
       "1  0.125    0.0\n",
       "2  0.150    0.0\n",
       "3  0.225    0.0\n",
       "4  0.275    0.0"
      ]
     },
     "execution_count": 3,
     "metadata": {},
     "output_type": "execute_result"
    }
   ],
   "source": [
    "#have a look at dataset to make sure everything is ok\n",
    "df.head()"
   ]
  },
  {
   "cell_type": "code",
   "execution_count": 4,
   "metadata": {},
   "outputs": [
    {
     "data": {
      "text/html": [
       "<div>\n",
       "<style scoped>\n",
       "    .dataframe tbody tr th:only-of-type {\n",
       "        vertical-align: middle;\n",
       "    }\n",
       "\n",
       "    .dataframe tbody tr th {\n",
       "        vertical-align: top;\n",
       "    }\n",
       "\n",
       "    .dataframe thead th {\n",
       "        text-align: right;\n",
       "    }\n",
       "</style>\n",
       "<table border=\"1\" class=\"dataframe\">\n",
       "  <thead>\n",
       "    <tr style=\"text-align: right;\">\n",
       "      <th></th>\n",
       "      <th>speed</th>\n",
       "      <th>power</th>\n",
       "    </tr>\n",
       "  </thead>\n",
       "  <tbody>\n",
       "    <tr>\n",
       "      <th>495</th>\n",
       "      <td>24.775</td>\n",
       "      <td>0.0</td>\n",
       "    </tr>\n",
       "    <tr>\n",
       "      <th>496</th>\n",
       "      <td>24.850</td>\n",
       "      <td>0.0</td>\n",
       "    </tr>\n",
       "    <tr>\n",
       "      <th>497</th>\n",
       "      <td>24.875</td>\n",
       "      <td>0.0</td>\n",
       "    </tr>\n",
       "    <tr>\n",
       "      <th>498</th>\n",
       "      <td>24.950</td>\n",
       "      <td>0.0</td>\n",
       "    </tr>\n",
       "    <tr>\n",
       "      <th>499</th>\n",
       "      <td>25.000</td>\n",
       "      <td>0.0</td>\n",
       "    </tr>\n",
       "  </tbody>\n",
       "</table>\n",
       "</div>"
      ],
      "text/plain": [
       "      speed  power\n",
       "495  24.775    0.0\n",
       "496  24.850    0.0\n",
       "497  24.875    0.0\n",
       "498  24.950    0.0\n",
       "499  25.000    0.0"
      ]
     },
     "execution_count": 4,
     "metadata": {},
     "output_type": "execute_result"
    }
   ],
   "source": [
    "df.tail()"
   ]
  },
  {
   "cell_type": "markdown",
   "metadata": {},
   "source": [
    "Ok so the shape and structure of the dataset looks ok but by using .head and .tail which returns the first and last 5 rows of data it looks like there could be some data recorded in error. \n",
    "\n",
    "Where it may be practical that the power generated at low wind speed may be 0 the power produced at higher wind speed is unlikey to be 0 (although issues with turnbines etc may cause this.) Ok lets have a look at our outputs as is and futher on I will calculate our r2 scores with the original and cleaned data. We will then make a decision as to use the original dataset or clean it by removing what may be errors."
   ]
  },
  {
   "cell_type": "markdown",
   "metadata": {},
   "source": [
    "## Visual Analysis of our Dataset and Making some Assumptions"
   ]
  },
  {
   "cell_type": "code",
   "execution_count": 7,
   "metadata": {},
   "outputs": [],
   "source": [
    "#lets have a look at a simple plot"
   ]
  },
  {
   "cell_type": "code",
   "execution_count": 35,
   "metadata": {},
   "outputs": [],
   "source": [
    "#delcare our two varibales from the dataset\n",
    "speed = np.array(df[\"speed\"])\n",
    "power = np.array(df[\"power\"])"
   ]
  },
  {
   "cell_type": "code",
   "execution_count": 40,
   "metadata": {},
   "outputs": [
    {
     "data": {
      "image/png": "[encoded data removed]",
      "text/plain": [
       "<Figure size 432x288 with 1 Axes>"
      ]
     },
     "metadata": {
      "needs_background": "light"
     },
     "output_type": "display_data"
    }
   ],
   "source": [
    "#crete a pyplot with our two varibales \n",
    "plt.plot(speed,power, \".\");\n",
    "#give the plot a title\n",
    "plt.title(\"Power Production Data\");\n",
    "#give the plot an x and y label\n",
    "plt.xlabel(\"wind speed\")\n",
    "plt.ylabel(\"power generated\");"
   ]
  },
  {
   "cell_type": "markdown",
   "metadata": {},
   "source": [
    "Ok our dataset plot looks ok - first impressions may not suit a straigh line regresssion model."
   ]
  },
  {
   "cell_type": "markdown",
   "metadata": {},
   "source": [
    "## Applying Regression Models to our Data."
   ]
  },
  {
   "cell_type": "markdown",
   "metadata": {},
   "source": [
    "Regression models describe the relationship between variables by fitting a line to the observed data. Linear regression models use a straight line, while logistic and nonlinear regression models use a curved line. Regression allows you to estimate how a dependent variable changes as the independent variable(s) change.\n",
    "\n",
    "Simple linear regression is used to estimate the relationship between two quantitative variables. You can use simple linear regression when you want to know:\n",
    "\n",
    "- How strong the relationship is between two variables (e.g. the relationship between rainfall and soil erosion).\n",
    "- The value of the dependent variable at a certain value of the independent variable.\n"
   ]
  },
  {
   "cell_type": "markdown",
   "metadata": {},
   "source": [
    "- https://en.wikipedia.org/wiki/Curve_fitting\n",
    "- https://en.wikipedia.org/wiki/Simple_linear_regression"
   ]
  },
  {
   "cell_type": "markdown",
   "metadata": {},
   "source": [
    "####  Simple Linear Regression using Numpy Polyfit function"
   ]
  },
  {
   "cell_type": "markdown",
   "metadata": {},
   "source": [
    "https://numpy.org/doc/stable/reference/generated/numpy.polyfit.html"
   ]
  },
  {
   "cell_type": "markdown",
   "metadata": {},
   "source": [
    "Numpy has a function named polyfit which can be used to fit lines to many dimensions and attempt to calculate the best fit. We are going to use it here to prove that our dataset does not suit/fit a linear regression model line very well."
   ]
  },
  {
   "cell_type": "code",
   "execution_count": 50,
   "metadata": {},
   "outputs": [
    {
     "data": {
      "text/plain": [
       "array([  5.61882784, -19.83768545])"
      ]
     },
     "execution_count": 50,
     "metadata": {},
     "output_type": "execute_result"
    }
   ],
   "source": [
    "#calculate relationship coefficents using numpy \n",
    "coeffs = np.polyfit(speed,power,1)\n",
    "coeffs"
   ]
  },
  {
   "cell_type": "markdown",
   "metadata": {},
   "source": [
    "We will use these values when plotting our best fit\n",
    "\n",
    "- forumla for straight line y = a*x + b\n",
    "- reg_coeff is our  regression coefficient (the a value) and intercept \"intercept\" (the b value)."
   ]
  },
  {
   "cell_type": "markdown",
   "metadata": {},
   "source": [
    "####  Plotting the best fit line using the values generated from np.polyfit linear regression function"
   ]
  },
  {
   "cell_type": "code",
   "execution_count": 54,
   "metadata": {},
   "outputs": [
    {
     "data": {
      "image/png": "[encoded data removed]",
      "text/plain": [
       "<Figure size 432x288 with 1 Axes>"
      ]
     },
     "metadata": {
      "needs_background": "light"
     },
     "output_type": "display_data"
    }
   ],
   "source": [
    "#plot the original data\n",
    "plt.plot(speed,power, '.', label = \"Source Data\");\n",
    "#show the coeffients as as line\n",
    "plt.plot(speed, coeffs[0] * speed + coeffs[1], \"b-\", label = \"best fit line\");# remember y = mx + c equation for straight line \n",
    "plt.legend()#show the legend\n",
    "plt.title(\"linear regressiojn using polyfit\")\n",
    "plt.xlabel(\"power output\")\n",
    "plt.ylabel(\"wind speed\")\n",
    "plt.show()#display the plot\n",
    "#sns.regplot(data=df, x = \"speed\", y = \"power\");\n",
    "#sns.regplot(speed,power);"
   ]
  },
  {
   "cell_type": "markdown",
   "metadata": {},
   "source": [
    "Ok so a straight line does not fit this data set very well. It is non linear at low speeds and again at very high speeds."
   ]
  },
  {
   "cell_type": "markdown",
   "metadata": {},
   "source": [
    "### Polynominal Regression using numpy"
   ]
  },
  {
   "cell_type": "markdown",
   "metadata": {},
   "source": [
    "If the data points clearly will not fit a linear regression (a straight line through all data points) as we have shown above is the case in our dataset, it might be ideal for polynomial regression.\n",
    "\n",
    "Polynomial regression, like linear regression, uses the relationship between the variables x and y to find the best way to draw a line through the data points.\n",
    "\n",
    "Numpy has a function poly1d that will this for u.\n",
    "\n",
    "Ok lets test this out:"
   ]
  },
  {
   "cell_type": "code",
   "execution_count": 55,
   "metadata": {},
   "outputs": [
    {
     "data": {
      "image/png": "[encoded data removed]",
      "text/plain": [
       "<Figure size 432x288 with 1 Axes>"
      ]
     },
     "metadata": {
      "needs_background": "light"
     },
     "output_type": "display_data"
    },
    {
     "name": "stdout",
     "output_type": "stream",
     "text": [
      "          3         2\n",
      "-0.04124 x + 1.568 x - 10.63 x + 17.43\n"
     ]
    }
   ],
   "source": [
    "speed = np.array(df[\"speed\"])\n",
    "power = np.array(df[\"power\"])\n",
    "\n",
    "mymodel = np.poly1d(np.polyfit(speed, power, 3))\n",
    "line = np.linspace(0, 25, 100)\n",
    "\n",
    "plt.scatter(speed, power,color='red',alpha=0.2)\n",
    "plt.title(\"Polynominal Regression\")\n",
    "plt.xlabel(\"power output\")\n",
    "plt.ylabel(\"wind speed\")\n",
    "plt.plot(line, mymodel(line))\n",
    "plt.show();\n",
    "print (mymodel)"
   ]
  },
  {
   "cell_type": "markdown",
   "metadata": {},
   "source": [
    "Ok as we can see above a not linear regression model fits our dataset better and this model will be better for generating predictions - we will compare both models as we go further on"
   ]
  },
  {
   "cell_type": "markdown",
   "metadata": {},
   "source": [
    "https://www.geeksforgeeks.org/python-implementation-of-polynomial-regression/\n",
    "\n",
    "\n",
    "Advantages of using Polynomial Regression:\n",
    "\n",
    "Broad range of function can be fit under it.\n",
    "Polynomial basically fits wide range of curvature.\n",
    "Polynomial provides the best approximation of the relationship between dependent and independent variable.\n",
    "Disadvantages of using Polynomial Regression\n",
    "\n",
    "These are too sensitive to the outliers.\n",
    "The presence of one or two outliers in the data can seriously affect the results of a nonlinear analysis.\n",
    "In addition there are unfortunately fewer model validation tools for the detection of outliers in nonlinear regression than there are for linear regression."
   ]
  },
  {
   "cell_type": "markdown",
   "metadata": {},
   "source": [
    "## Scoring both our models "
   ]
  },
  {
   "cell_type": "markdown",
   "metadata": {},
   "source": [
    "insert here the reaserch i have done on teh r2 and pssoble the r values "
   ]
  },
  {
   "cell_type": "code",
   "execution_count": 13,
   "metadata": {},
   "outputs": [],
   "source": [
    "#lets core the polfit model - usiing skitlear r2score modules \n",
    "#polyfit_score = r2_score()"
   ]
  },
  {
   "cell_type": "markdown",
   "metadata": {},
   "source": [
    "The purpose of the R-squared value is to measure how much of the variance in $y$ is determined by $x$"
   ]
  },
  {
   "cell_type": "markdown",
   "metadata": {},
   "source": [
    "The R-squared value emstimates how much of the changes in the $y$ value is due to the changes in the $x$ value compared to all of the other factors affecting the $y$ value. It is calculated as fabove"
   ]
  },
  {
   "cell_type": "markdown",
   "metadata": {},
   "source": [
    "##### Calculate the R2 score of our Polyfit linear regression using Numpy and Sklearn"
   ]
  },
  {
   "cell_type": "code",
   "execution_count": 14,
   "metadata": {},
   "outputs": [
    {
     "name": "stdout",
     "output_type": "stream",
     "text": [
      "0.7289360258564072\n"
     ]
    }
   ],
   "source": [
    "#this is to calculate r squared value R2 - coefficent of determination \n",
    "ployfit_rsq = np.corrcoef(speed, power)[0][1]**2\n",
    "#print(r2_score(speed,power))\n",
    "print(ployfit_rsq)"
   ]
  },
  {
   "cell_type": "code",
   "execution_count": 15,
   "metadata": {},
   "outputs": [],
   "source": [
    "## to be used further on in project as i woudl prefer to see how the results look with orginal data \n",
    "#Delete rows where \"Duration\" is equal to 0 - https://www.w3schools.com/python/pandas_cleaning_wrong_data.asp\n",
    "for x in df.index:\n",
    "    if df.loc[x, \"power\"] == 0:\n",
    "       df.drop(x, inplace = True)\n",
    "speed = np.array(df[\"speed\"])\n",
    "power = np.array(df[\"power\"])\n"
   ]
  },
  {
   "cell_type": "code",
   "execution_count": 16,
   "metadata": {},
   "outputs": [
    {
     "name": "stdout",
     "output_type": "stream",
     "text": [
      "0.8984832870534452\n"
     ]
    }
   ],
   "source": [
    "#this is to calculate r squared value R2 - coefficent of determination \n",
    "ployfit_rsq_revised = np.corrcoef(speed, power)[0][1]**2\n",
    "#print(r2_score(speed,power))\n",
    "print(ployfit_rsq_revised)"
   ]
  },
  {
   "cell_type": "code",
   "execution_count": 17,
   "metadata": {},
   "outputs": [
    {
     "name": "stdout",
     "output_type": "stream",
     "text": [
      "0.8984832870534454\n"
     ]
    }
   ],
   "source": [
    "#https://www.scribbr.com/statistics/simple-linear-regression/\n",
    "#https://scikit-learn.org/stable/modules/generated/sklearn.linear_model.LinearRegression.html\n",
    "#https://www.geeksforgeeks.org/python-linear-regression-using-sklearn/  \n",
    "\n",
    "from sklearn.linear_model import LinearRegression \n",
    "lx = df['speed'].values.reshape(-1,1)#reshape to 1 dimensioanl array\n",
    "ly = df['power'].values.reshape(-1,1)\n",
    "\n",
    "reg = LinearRegression().fit(lx,ly) #generate regression model\n",
    "skrq = reg.score(lx,ly) # calcualre the r2 score using sklearn\n",
    "print(skrq) #print the sklearn r sqaured score"
   ]
  },
  {
   "cell_type": "markdown",
   "metadata": {},
   "source": [
    "##### Calculate the R2 score of our Polynominal Regression using Numpy.corrcoef and Sklearn r 2 score function"
   ]
  },
  {
   "cell_type": "code",
   "execution_count": 18,
   "metadata": {},
   "outputs": [
    {
     "name": "stdout",
     "output_type": "stream",
     "text": [
      "0.9589638282422991\n"
     ]
    }
   ],
   "source": [
    "poly1d_rsq = np.corrcoef(mymodel(speed), power)[0][1]**2\n",
    "print (poly1d_rsq)"
   ]
  },
  {
   "cell_type": "code",
   "execution_count": 19,
   "metadata": {},
   "outputs": [
    {
     "name": "stdout",
     "output_type": "stream",
     "text": [
      "0.955047043650071\n"
     ]
    }
   ],
   "source": [
    "from sklearn.metrics import r2_score\n",
    "print(r2_score(power, mymodel(speed)))"
   ]
  },
  {
   "cell_type": "markdown",
   "metadata": {},
   "source": [
    "##### Analysing results obtained\n",
    "- https://www.youtube.com/watch?v=X0lo-TLWPOo\n",
    "\n",
    "The closer the R2 value is to 1 the more accurate your linear regression model is:"
   ]
  },
  {
   "cell_type": "code",
   "execution_count": 20,
   "metadata": {},
   "outputs": [
    {
     "name": "stdout",
     "output_type": "stream",
     "text": [
      "RSquared value using a Polyfit linear regression model is  0.7289360258564072\n",
      "RSquared value using a Polynominal regression model is  0.9589638282422991\n"
     ]
    }
   ],
   "source": [
    "print (\"RSquared value using a Polyfit linear regression model is \", ployfit_rsq)\n",
    "print (\"RSquared value using a Polynominal regression model is \", poly1d_rsq)"
   ]
  },
  {
   "cell_type": "markdown",
   "metadata": {},
   "source": [
    "The above has proven that our Polynominal regression line fits our dataset best and can currently predict 87% of the values in the dataset and with a linear regression model it could predict 72% of the values in the dataset. Both i would assume coudl be used to make predictions but obviously the closer we are to the better the predicitons."
   ]
  },
  {
   "cell_type": "markdown",
   "metadata": {},
   "source": [
    "###  Evaluating our model train test\n",
    "Training and Testing - splitting my Data into train and test\n",
    "\n",
    "To measure if the regression model i created is good enough/test the accuracy , we can use a method called Train/Test.\n",
    "It is called Train/Test because we split our data set into two sets: a training set and a testing set."
   ]
  },
  {
   "cell_type": "markdown",
   "metadata": {},
   "source": [
    "Split into train and test data"
   ]
  },
  {
   "cell_type": "code",
   "execution_count": 21,
   "metadata": {},
   "outputs": [
    {
     "data": {
      "image/png": "[encoded data removed]",
      "text/plain": [
       "<Figure size 432x288 with 1 Axes>"
      ]
     },
     "metadata": {
      "needs_background": "light"
     },
     "output_type": "display_data"
    }
   ],
   "source": [
    "# adapted and thanks to from https://realpython.com/train-test-split-python-data/#application-of-train_test_split\n",
    "\n",
    "from sklearn.linear_model import LinearRegression\n",
    "from sklearn.model_selection import train_test_split\n",
    "\n",
    "x = df['speed']\n",
    "y = df['power']\n",
    "\n",
    "speed_train, speed_test, power_train, power_test = train_test_split(x, y, test_size=0.2, random_state=0) #20% FOR TESTING\n",
    "\n",
    "\n",
    "#plt.scatter(train_speed,train_power);\n",
    "#plt.scatter(x,y);\n",
    "#plt.scatter(x_test,y_test);\n",
    "#DISPLAY THE TRAINING DATA\n",
    "plt.scatter(speed_train,power_train);\n",
    "plt.scatter(speed_test,power_test);"
   ]
  },
  {
   "cell_type": "markdown",
   "metadata": {},
   "source": [
    "Our training and test data looks similar to original data and can be consisered a fair test"
   ]
  },
  {
   "cell_type": "markdown",
   "metadata": {},
   "source": [
    "### Plotting our training using Linear Regression and getting the R2 score"
   ]
  },
  {
   "cell_type": "code",
   "execution_count": 22,
   "metadata": {},
   "outputs": [
    {
     "data": {
      "image/png": "[encoded data removed]",
      "text/plain": [
       "<Figure size 432x288 with 1 Axes>"
      ]
     },
     "metadata": {
      "needs_background": "light"
     },
     "output_type": "display_data"
    }
   ],
   "source": [
    "#calculate relationship coefficents using numpy \n",
    "coeffst = np.polyfit(speed_train,power_train,1)\n",
    "coeffst\n",
    "#plot the original data\n",
    "plt.plot(speed_train,power_train, '.', label = \"Training Data\");\n",
    "#show the coeffients as as line\n",
    "plt.plot(speed_train, coeffst[0] * speed_train + coeffs[1], \"b-\", label = \"best fit line\");\n",
    "plt.legend()#show the legend\n",
    "plt.show()#display the plot\n",
    "#sns.regplot(data=df, x = \"speed\", y = \"power\");\n",
    "#sns.regplot(speed,power);"
   ]
  },
  {
   "cell_type": "code",
   "execution_count": 23,
   "metadata": {},
   "outputs": [],
   "source": [
    "#this is to calculate r squared value R2 - coefficent of determination \n",
    "ployfit_train_rsq = np.corrcoef(speed_train,power_train)[0][1]**2\n",
    "ployfit_test_rsq = np.corrcoef(speed_test,power_test)[0][1]**2"
   ]
  },
  {
   "cell_type": "code",
   "execution_count": 24,
   "metadata": {},
   "outputs": [
    {
     "name": "stdout",
     "output_type": "stream",
     "text": [
      "0.9035941466272619\n",
      "0.8810216837989646\n"
     ]
    }
   ],
   "source": [
    "#print(r2_score(speed,power))\n",
    "print(ployfit_train_rsq)## How well does our training data fit a linear regression model ?\n",
    "print(ployfit_test_rsq)## How well does our training data fit a linear regression model ?"
   ]
  },
  {
   "cell_type": "markdown",
   "metadata": {},
   "source": [
    "### Plotting our training using Polynominal regression and getting the R2 score"
   ]
  },
  {
   "cell_type": "code",
   "execution_count": 25,
   "metadata": {},
   "outputs": [
    {
     "data": {
      "image/png": "[encoded data removed]",
      "text/plain": [
       "<Figure size 432x288 with 1 Axes>"
      ]
     },
     "metadata": {
      "needs_background": "light"
     },
     "output_type": "display_data"
    }
   ],
   "source": [
    "train_model = np.poly1d(np.polyfit(speed_train, power_train, 4))\n",
    "test_model = np.poly1d(np.polyfit(speed_test, power_test,4))\n",
    "#train_model = np.polyfit(train_speed, train_power, 4)\n",
    "train_line = np.linspace(0, 25, 50)\n",
    "plt.scatter(speed_train, power_train,color='red',alpha=0.2)\n",
    "plt.plot(train_line, train_model(train_line))\n",
    "plt.show();"
   ]
  },
  {
   "cell_type": "code",
   "execution_count": 26,
   "metadata": {},
   "outputs": [],
   "source": [
    "#poly1d_train_rsq = np.corrcoef(train_model(train_speed), train_power)[0][1]**2\n",
    "#print (poly1d_train_rsq)\n",
    "#print(r2_score(train_power, train_model(train_speed)))"
   ]
  },
  {
   "cell_type": "code",
   "execution_count": 27,
   "metadata": {},
   "outputs": [
    {
     "name": "stdout",
     "output_type": "stream",
     "text": [
      "R2 Score using numpy corrcoef calc is  0.981090890766574\n",
      "Our R2 score from training dataset is 0.9810908907665742\n",
      "Our R2 scopre from test dataset is 0.9699171579868041\n"
     ]
    }
   ],
   "source": [
    "poly1d_test_rsq = np.corrcoef(train_model(speed_train), power_train)[0][1]**2\n",
    "print (\"R2 Score using numpy corrcoef calc is \",poly1d_test_rsq)\n",
    "train_r2_score = r2_score(power_train, train_model(speed_train))\n",
    "test_r2_score = r2_score(power_test, train_model(speed_test))\n",
    "print(\"Our R2 score from training dataset is\",train_r2_score)\n",
    "print(\"Our R2 scopre from test dataset is\", test_r2_score)"
   ]
  },
  {
   "cell_type": "markdown",
   "metadata": {},
   "source": [
    "## Making Predictions "
   ]
  },
  {
   "cell_type": "markdown",
   "metadata": {},
   "source": [
    "#### Making predictions with Poly1 d - https://data36.com/linear-regression-in-python-numpy-polyfit/"
   ]
  },
  {
   "cell_type": "code",
   "execution_count": 28,
   "metadata": {},
   "outputs": [
    {
     "name": "stdout",
     "output_type": "stream",
     "text": [
      "The prediction from the training model is 26.131336828991074\n",
      "The prediction from the test model is 25.35979743995101\n"
     ]
    }
   ],
   "source": [
    "#test wind speed of 10 against our training model\n",
    "predict_train = train_model(10)\n",
    "print (\"The prediction from the training model is\", predict_train)\n",
    "\n",
    "#test wind speed of 10 against our test model\n",
    "predict_test= test_model(10)\n",
    "print (\"The prediction from the test model is\", predict_test)"
   ]
  },
  {
   "cell_type": "markdown",
   "metadata": {},
   "source": [
    "Lets visual our results to see does that prediction fit with our regression model"
   ]
  },
  {
   "cell_type": "code",
   "execution_count": 29,
   "metadata": {},
   "outputs": [
    {
     "data": {
      "image/png": "[encoded data removed]",
      "text/plain": [
       "<Figure size 432x288 with 1 Axes>"
      ]
     },
     "metadata": {
      "needs_background": "light"
     },
     "output_type": "display_data"
    }
   ],
   "source": [
    "plt.scatter(speed_test, power_test,color='red',alpha=0.2)\n",
    "train_line = np.linspace(0, 25, 50)\n",
    "plt.plot(train_line, train_model(train_line))\n",
    "plt.xlabel(\"Wind\")\n",
    "plt.ylabel(\"Power\")\n",
    "plt.vlines(10, 0, 100, colors='k', linestyles='solid',data=None) #https://matplotlib.org/3.1.1/api/_as_gen/matplotlib.pyplot.vlines.html\n",
    "plt.axhline(26, color = 'r', linestyle = '-') \n",
    "plt.title(\"Test Data with regression line\")\n",
    "plt.show();"
   ]
  },
  {
   "cell_type": "markdown",
   "metadata": {},
   "source": [
    "Happy with those resuls sa we can see a wind speed of 10km would produce a power oput approx 26. We can use our test model to accurately predict power output from a given wind speed."
   ]
  },
  {
   "cell_type": "markdown",
   "metadata": {},
   "source": [
    "#### Creating our Predict function "
   ]
  },
  {
   "cell_type": "code",
   "execution_count": 30,
   "metadata": {},
   "outputs": [],
   "source": [
    "def predict_p(x):\n",
    "    predict_test = test_model(x)\n",
    "    predict_train= train_model(x)\n",
    "    return print (\"The predicted power output from a wind speed of\",x,\n",
    "                  \" will be \", predict_train.round(2), \"from our training model and from our test model will be \", predict_test.round(2))"
   ]
  },
  {
   "cell_type": "code",
   "execution_count": 31,
   "metadata": {},
   "outputs": [
    {
     "name": "stdout",
     "output_type": "stream",
     "text": [
      "The predicted power output from a wind speed of 8  will be  12.07 from our training model and from our test model will be  10.99\n"
     ]
    }
   ],
   "source": [
    "predict_p(8)"
   ]
  },
  {
   "cell_type": "code",
   "execution_count": 32,
   "metadata": {},
   "outputs": [
    {
     "data": {
      "image/png": "[encoded data removed]",
      "text/plain": [
       "<Figure size 432x288 with 1 Axes>"
      ]
     },
     "metadata": {
      "needs_background": "light"
     },
     "output_type": "display_data"
    }
   ],
   "source": [
    "### Testingg from lectures videos \n",
    "\n",
    "a,m,n,t = 2011.1, 2.6650, 622.922, 1.4090\n",
    "\n",
    "u = np.linspace(0.0,30.0,1000)\n",
    "\n",
    "P_u = a * (1.0 + m * np.exp(-speed/t)) / (1.0 + n * np.exp (-speed / t))\n",
    "df['Power_u'] = P_u /25\n",
    "sns.scatterplot(data=df, x = \"speed\", y = \"Power_u\");\n",
    "sns.scatterplot(speed,power);"
   ]
  },
  {
   "cell_type": "code",
   "execution_count": null,
   "metadata": {},
   "outputs": [],
   "source": []
  },
  {
   "cell_type": "markdown",
   "metadata": {},
   "source": [
    "w3s schools regresion "
   ]
  },
  {
   "cell_type": "markdown",
   "metadata": {},
   "source": [
    "wcs schools very good tutorials "
   ]
  },
  {
   "cell_type": "markdown",
   "metadata": {},
   "source": [
    "References "
   ]
  },
  {
   "cell_type": "markdown",
   "metadata": {},
   "source": [
    "https://towardsdatascience.com/how-we-made-profits-forecasting-wind-energy-production-levels-b93bd3a7f1ed"
   ]
  },
  {
   "cell_type": "markdown",
   "metadata": {},
   "source": [
    "https://data36.com/linear-regression-in-python-numpy-polyfit/"
   ]
  },
  {
   "cell_type": "markdown",
   "metadata": {},
   "source": [
    "https://blog.minitab.com/blog/adventures-in-statistics-2/regression-analysis-how-do-i-interpret-r-squared-and-assess-the-goodness-of-fit"
   ]
  },
  {
   "cell_type": "markdown",
   "metadata": {},
   "source": [
    "https://win-vector.com/2013/02/22/dont-use-correlation-to-track-prediction-performance/"
   ]
  },
  {
   "cell_type": "markdown",
   "metadata": {},
   "source": [
    "https://blog.uwgb.edu/bansalg/statistics-data-analytics/linear-regression/what-is-the-difference-between-coefficient-of-determination-and-coefficient-of-correlation/"
   ]
  },
  {
   "cell_type": "code",
   "execution_count": null,
   "metadata": {},
   "outputs": [],
   "source": []
  }
 ],
 "metadata": {
  "kernelspec": {
   "display_name": "Python 3",
   "language": "python",
   "name": "python3"
  },
  "language_info": {
   "codemirror_mode": {
    "name": "ipython",
    "version": 3
   },
   "file_extension": ".py",
   "mimetype": "text/x-python",
   "name": "python",
   "nbconvert_exporter": "python",
   "pygments_lexer": "ipython3",
   "version": "3.8.3"
  }
 },
 "nbformat": 4,
 "nbformat_minor": 2
}
